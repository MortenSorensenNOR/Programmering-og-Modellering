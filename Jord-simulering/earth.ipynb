{
 "cells": [
  {
   "cell_type": "code",
   "execution_count": 1,
   "metadata": {},
   "outputs": [],
   "source": [
    "import numpy as np\n",
    "import matplotlib.pyplot as plt\n",
    "from mpl_toolkits.mplot3d import Axes3D\n",
    "from ipywidgets import interact, FloatSlider, Checkbox\n",
    "from scipy.spatial.transform import Rotation"
   ]
  },
  {
   "attachments": {},
   "cell_type": "markdown",
   "metadata": {},
   "source": [
    "### Konstanter"
   ]
  },
  {
   "cell_type": "code",
   "execution_count": 2,
   "metadata": {},
   "outputs": [],
   "source": [
    "# KONSTANTER\n",
    "# Global\n",
    "simulation_step = 1000      # s\n",
    "simulation_time = 365 * 24 * 60 * 60 * 10\n",
    "simulation_total_steps = simulation_time // simulation_step\n",
    "\n",
    "# Gravitasjon\n",
    "AU = 1.495978707e11\n",
    "gamma = 6.67e-11                        # m^3/(kg*s^2)\n",
    "mass_earth = 5.972e24                   # kg\n",
    "mass_mars = 6.39e23                     # kg\n",
    "mass_sun = 1.989e30                     # kg\n",
    "\n",
    "earth_apoapsis_distance = 1.0167 * AU   # m\n",
    "earth_apoapsis_velocity = 2.93e4        # m/s\n",
    "\n",
    "mars_apoapsis_distance = -1.666 * AU    # m\n",
    "mars_apoapsis_velocity = 2.197e4        # m/s\n",
    "\n",
    "# Rotasjon\n",
    "earth_rot_vel = 7.292115e-5             # rad/s\n",
    "earth_tilt_angle = np.deg2rad(66.5)     # rads\n",
    "\n",
    "# Klima\n",
    "sigma = 5.67e-8                         # W/(m^2K^4)\n",
    "sun_surface_temp = 5772                 # K\n",
    "earth_albedo = 0.33                     # Skalar\n",
    "earth_emisitivity = 0.5                 # Skalar\n",
    "\n",
    "radius_sun = 6.95E8                     # m\n",
    "radius_earth = 6.371e6                  # m"
   ]
  },
  {
   "attachments": {},
   "cell_type": "markdown",
   "metadata": {},
   "source": [
    "### Framgangsmåte\n",
    "(1) Simulerer så jordens bane rundt solen. $\\newline$\n",
    "(2) Deler jorden inn i delareal, dvs. diskrete områder som simuleres hver for seg, med egne parametre. $\\newline$\n",
    "(3) Simulerer jordens rotasjon om egen akse. $\\newline$\n",
    "(4) For hver iterasjon av simuleringen: Regner vi ut strålingspådrivet på hvert av delarealene, og bruker strålingspådrivet for å finne ny temperatur. $\\newline$"
   ]
  },
  {
   "attachments": {},
   "cell_type": "markdown",
   "metadata": {},
   "source": [
    "### Planetsimulering\n",
    "Gravitasjonskraft:\n",
    "$$F_G = \\frac{\\gamma M m}{d^2}$$\n",
    "\n",
    "Initialiserer posisjonen og banefarten til jorden i sin apoapsis, og bruker fysiske verdier for massen til jorden og solen. Bruker følgende verdier:\n",
    "\n",
    "$$ v_{apoapsis} = 2.93 \\cdot 10^4 \\:m/s$$\n",
    "$$ d_{apoapsis} = 1.0167 * AU $$\n",
    "\n",
    "Bruker så euler-integrasjon sammen med kraftformelen over for å finne akselerasjonen til jorden:\n",
    "\n",
    "$$ v_{t + 1} = v_t + \\frac{F_G}{m}\\Delta t$$\n",
    "$$ p_{t + 1} = p_t + v_{t + 1} \\Delta t$$"
   ]
  },
  {
   "cell_type": "code",
   "execution_count": 3,
   "metadata": {},
   "outputs": [
    {
     "data": {
      "text/plain": [
       "(-272027759503.76346,\n",
       " 229521786837.98727,\n",
       " -249692734115.85547,\n",
       " 249672635901.49164)"
      ]
     },
     "execution_count": 3,
     "metadata": {},
     "output_type": "execute_result"
    },
    {
     "data": {
      "image/png": "[encoded data removed]",
      "text/plain": [
       "<Figure size 640x480 with 1 Axes>"
      ]
     },
     "metadata": {},
     "output_type": "display_data"
    }
   ],
   "source": [
    "# Variabler\n",
    "time = 0\n",
    "earth_position = np.array([earth_apoapsis_distance, 0, 0])\n",
    "earth_velocity = np.array([0, earth_apoapsis_velocity, 0])\n",
    "mars_position = np.array([mars_apoapsis_distance, 0, 0])\n",
    "mars_velocity = np.array([0, mars_apoapsis_velocity, 0])\n",
    "\n",
    "# Data\n",
    "pos_data_earth = np.zeros((simulation_total_steps, 3))\n",
    "pos_data_mars = np.zeros((simulation_total_steps, 3))\n",
    "\n",
    "# Simulering\n",
    "for i in range(simulation_total_steps):\n",
    "    earth_dist = np.linalg.norm(earth_position)\n",
    "    mars_dist = np.linalg.norm(mars_position)\n",
    "    if earth_dist:\n",
    "        earth_velocity -= earth_position * (gamma * mass_sun) / (earth_dist**3) * simulation_step\n",
    "        earth_position += earth_velocity * simulation_step\n",
    "        pos_data_earth[i] = earth_position\n",
    "    if mars_dist:\n",
    "        mars_velocity -= mars_position * (gamma * mass_sun) / (mars_dist**3) * simulation_step\n",
    "        mars_position += mars_velocity * simulation_step\n",
    "        pos_data_mars[i] = mars_position\n",
    "    time += simulation_step\n",
    "\n",
    "# Visualisering\n",
    "plt.plot(pos_data_earth[:,0], pos_data_earth[:,1], 'b')\n",
    "plt.plot(pos_data_mars[:,0], pos_data_mars[:,1], 'r')\n",
    "plt.plot(0, 0, '*', color = 'darkorange', markersize = 15)\n",
    "plt.plot(earth_position[0], earth_position[1], 'ob', markersize = 15)\n",
    "plt.plot(mars_position[0], mars_position[1], 'or', markersize = 15)\n",
    "plt.grid(True)\n",
    "plt.axis('equal')"
   ]
  },
  {
   "attachments": {},
   "cell_type": "markdown",
   "metadata": {},
   "source": [
    "### Fordeling av jordens overflate\n",
    "For å kunne fordele jorden inn i delareal må man finne et sett med punkter som kan representere sentrumene til delarealene. Det kan man gjøre ved å dele opp jorden på samme måte som man gjør med kart, nemmelig inn i bredde- og lengdegrader der et hvert punkt blir representert med to vinkler. Vi kaller disse vinklene $\\alpha_i$ og $\\beta_i$, og vi får følgende formel for å representere vektoren fra sentrum av jorden til punktet:\n",
    "\n",
    "$$\\vec{p_i} = r_j [\\cos{(\\alpha_i)}\\sin{(\\beta_i)}, \\sin{(\\alpha_i)}\\sin{(\\beta_i)}, \\cos{(\\beta_i)}]$$\n",
    "\n",
    "Uttrykket kommer av at vi kombinerer rotasjon rundt z-aksen (vanlig enhetssirkel i xy-planet) med rotasjon rundt y-aksen (rotasjon rundt en sirkel i zx-planet).\n",
    "\n",
    "Gir vi følgende definisjonsmengder til $\\alpha_i$ og $\\beta_i$\n",
    "$$\\alpha_i \\in [-\\pi, \\pi] \\land \\beta_i \\in [0, \\pi]$$\n",
    "kan vi direkte overføre det til kart dersom vi konverterer $\\beta_i \\in [0, \\pi] \\to [-\\pi/2, \\pi/2]$.\n",
    "\n",
    "For å kunne representere jordens rotasjon kan en til vinkel bli lagt til i uttrykket over\n",
    "$$\\vec{p_i} = r_j [\\cos{(\\alpha_i + \\omega t)}\\sin{(\\beta_i)}, \\sin{(\\alpha_i + \\omega t)}\\sin{(\\beta_i)}, \\cos{(\\beta_i)}]$$\n",
    "hvor $\\omega$ er jordens rotasjonshastiget rundt egen akse og $t$ er tiden som har gått i simuleringen.\n",
    "\n",
    "#### Bedre metode\n",
    "Bruker lineær algebra. En rotasjonsmatrise og en vektor som representerer rotasjonsaksen til jorden kan bli brukt til å regne ut en fordeling av punkter på jordens overflate gitt ett sett med breddegrader og ett sett med lengdegrader. Merk at breddegradene er i intervallet $[0, \\pi]$ og at lengdegradene er i intervallet $[0, 2\\pi]$."
   ]
  },
  {
   "cell_type": "code",
   "execution_count": 4,
   "metadata": {},
   "outputs": [],
   "source": [
    "# Generering av punkter på planetens overflate\n",
    "def point_on_sphere(alpha, beta, v, radius = 1):\n",
    "    # Calculate x,y,z coordinates\n",
    "    x = np.sin(alpha) * np.cos(beta)\n",
    "    y = np.sin(alpha) * np.sin(beta)\n",
    "    z = np.cos(alpha)\n",
    "\n",
    "    # Create rotation matrix\n",
    "    v = v / np.linalg.norm(v)\n",
    "    c = np.cos(np.pi/2)\n",
    "    s = np.sin(np.pi/2)\n",
    "    t = 1 - c\n",
    "    R = np.array([[t*v[0]*v[0]+c, t*v[0]*v[1]-s*v[2], t*v[0]*v[2]+s*v[1]],\n",
    "                  [t*v[0]*v[1]+s*v[2], t*v[1]*v[1]+c, t*v[1]*v[2]-s*v[0]],\n",
    "                  [t*v[0]*v[2]-s*v[1], t*v[1]*v[2]+s*v[0], t*v[2]*v[2]+c]])\n",
    "\n",
    "    # Rotate point\n",
    "    p = np.array([x,y,z])\n",
    "    p_rotated = R @ p\n",
    "\n",
    "    return radius * p_rotated"
   ]
  },
  {
   "attachments": {},
   "cell_type": "markdown",
   "metadata": {},
   "source": [
    "#### Utregning av overflate-normaler på en sfære"
   ]
  },
  {
   "cell_type": "code",
   "execution_count": 5,
   "metadata": {},
   "outputs": [],
   "source": [
    "def calculate_surface_normals(points_vec, center = np.array([0, 0, 0])):\n",
    "    points_vec = np.transpose(points_vec)\n",
    "    normals = np.array([points_vec[0] - center[0], points_vec[1] - center[1], points_vec[2] - center[2]])\n",
    "    normals /= np.linalg.norm(normals, axis=0)\n",
    "    return np.transpose(normals)\n",
    "\n",
    "def calculate_surface_normals_vec(points_vec, center = np.array([0, 0, 0])):\n",
    "    normals = np.array([points_vec[0] - center[0], points_vec[1] - center[1], points_vec[2] - center[2]])\n",
    "    normals /= np.linalg.norm(normals, axis=0)\n",
    "    return normals"
   ]
  },
  {
   "attachments": {},
   "cell_type": "markdown",
   "metadata": {},
   "source": [
    "### Finne delareal\n",
    "For å kunne finne delarealet til et vilkårlig punkt med vinkelen $\\delta$ (lik breddegraden tidligere), trenger vi et uttrykk for overflate-arealet til en sfære mellom to vinkler:\n",
    "$$A = 2\\pi r^2(\\sin{(\\beta)} - \\sin{(\\alpha)}),$$\n",
    "hvor $\\alpha$ og $\\beta$ er to vinkler. Setter vi vinkelen $\\alpha = \\delta - \\Delta v$ og $\\beta = \\delta + \\Delta v$, der $\\Delta v$ er den diskrete vinkelforskjellen mellom to vertikale lag med punkter ovenfor. \n",
    "http://www.usrsb.in/blog/blog/2011/08/11/the-surface-area-of-a-sphere-between-parallel-planes/"
   ]
  },
  {
   "cell_type": "code",
   "execution_count": 6,
   "metadata": {},
   "outputs": [
    {
     "name": "stdout",
     "output_type": "stream",
     "text": [
      "Jordens overflate-areal er: 510064471909788.25 m^2\n"
     ]
    }
   ],
   "source": [
    "def calculate_area_of_sphere(angle, radius, delta, num_of_horizontal_points):\n",
    "    alpha = angle - delta\n",
    "    beta = angle + delta\n",
    "    return 2 * np.pi * radius * radius * (np.sin(beta) - np.sin(alpha)) / num_of_horizontal_points\n",
    "\n",
    "print(f\"Jordens overflate-areal er: {calculate_area_of_sphere(0, radius_earth, np.pi/2, 1)} m^2\")"
   ]
  },
  {
   "attachments": {},
   "cell_type": "markdown",
   "metadata": {},
   "source": [
    "### Jordens rotasjon"
   ]
  },
  {
   "cell_type": "code",
   "execution_count": 7,
   "metadata": {},
   "outputs": [
    {
     "data": {
      "application/vnd.jupyter.widget-view+json": {
       "model_id": "da31d22695664e92b1f0a3cb0209322f",
       "version_major": 2,
       "version_minor": 0
      },
      "text/plain": [
       "interactive(children=(FloatSlider(value=0.0, description='time', max=86400.0, step=10.0), FloatSlider(value=0.…"
      ]
     },
     "metadata": {},
     "output_type": "display_data"
    }
   ],
   "source": [
    "num_of_vertical_points = 30\n",
    "num_of_horizontal_points = 30\n",
    "\n",
    "# Plotte overflate-normal-vektorene\n",
    "def plot_quiver(vec, ax):\n",
    "    normals = calculate_surface_normals_vec(vec) # vec er allerede transposert til denne funksjonen for at funksjonen skal kunne vektoriseres\n",
    "    \n",
    "    # Plotter sfæren sine normal-vektorer\n",
    "    ax.quiver(vec[0], vec[1], vec[2], normals[0], normals[1], normals[2], length = 0.25)\n",
    "\n",
    "@interact(time = FloatSlider(value = 0.0, min = 0.0, max = 86400.0, step = 10), angle = FloatSlider(value=0, min=-90.0, max=90.0, step=0.5), normals = Checkbox(value=False))\n",
    "def animate_points(time, angle, normals):\n",
    "    # Jordens rotasjons-akse\n",
    "    earth_rot_vec = np.array([0, np.cos(np.pi / 2 - np.deg2rad(angle)), np.sin(np.pi / 2 - np.deg2rad(angle))])\n",
    "\n",
    "    # Utregning av punkter på jordens overflate\n",
    "    points = []\n",
    "    for beta in np.linspace(0, 2 * np.pi - 2 * np.pi / num_of_horizontal_points, num_of_horizontal_points): \n",
    "        for alpha in np.linspace(0, -np.pi, num_of_vertical_points):\n",
    "            points.append(point_on_sphere(alpha, beta + earth_rot_vel * time, earth_rot_vec))\n",
    "\n",
    "    color_map = [i for i in range(len(points))]\n",
    "    points = np.array([points])\n",
    "    points_t = np.transpose(points)\n",
    "\n",
    "    fig = plt.figure()\n",
    "    ax = fig.add_subplot(projection=\"3d\")\n",
    "\n",
    "    ax.set_xlim3d(-1, 1)\n",
    "    ax.set_ylim3d(-1, 1)\n",
    "    ax.set_zlim3d(-1, 1)\n",
    "\n",
    "    if normals: plot_quiver(points_t, ax)\n",
    "    ax.scatter(points_t[0], points_t[1], points_t[2], c=color_map, cmap='inferno')\n",
    "\n",
    "    plt.show()"
   ]
  },
  {
   "attachments": {},
   "cell_type": "markdown",
   "metadata": {},
   "source": [
    "### Utregning av innstrålingsintensitet\n",
    "Sollyset som treffer jorden treffer ikke hele jorden i like mengder. Ved å ta skalarproduktet mellom normalvektoren til et punkt på overflaten til jorden og vektoren som representerer det innkommende strålingspådrivet kan man få frem dette.\n",
    "$$\\text{Effektiv innstråling} = \\vec{A} \\cdot \\vec{I_{sol}} = dA \\cdot I_{sol} \\cdot \\sin{\\alpha}$$\n",
    "der $dA$ er et vilkårlig delareal av jorden, $I_{sol}$ er den innstrålte effekten per kvadratmeter til området og $\\alpha$ er vinkelen mellom areal-vektoren, som peker normalt ut av delarealet, og sol-vektoren som peker fra sentrum av delarealet til solen.  "
   ]
  },
  {
   "cell_type": "code",
   "execution_count": 8,
   "metadata": {},
   "outputs": [],
   "source": [
    "def calculate_intensity(alpha, beta, pos, radius, rot_vec):\n",
    "    points = point_on_sphere(alpha, beta, rot_vec, radius)\n",
    "    points_pos = points + pos\n",
    "    normals = calculate_surface_normals(points_pos, pos)\n",
    "    points_pos_norm = points_pos / np.linalg.norm(points_pos)\n",
    "    intensity = normals @ points_pos_norm\n",
    "    return intensity"
   ]
  },
  {
   "attachments": {},
   "cell_type": "markdown",
   "metadata": {},
   "source": [
    "### Instrålingstetthet - Solarkonstanten\n",
    "\n",
    "Energien i sollyset som når jorden er fordelt på et enormt kuleskall med radius like stort som avstanden mellom solen og jorden:\n",
    "\n",
    "$$r_{sj}= 1AU = 1.496\\cdot 10^{11}m$$ \n",
    "\n",
    "Intensitet som man finner ved å dele solens totale effekt på arealet av dette enorme kuleskallet kalles for solens innstrålingstetthet. Dette tallet kalles også solkonstanten og kan beregnes som:\n",
    "$$I_{sol} = \\frac{P_{sol}}{4\\pi r_{sj}^2}$$"
   ]
  },
  {
   "cell_type": "code",
   "execution_count": 9,
   "metadata": {},
   "outputs": [],
   "source": [
    "def calculate_sun_radiated_power(pos):\n",
    "    P_sol = sigma * sun_surface_temp**4 * 4 * np.pi * radius_sun ** 2\n",
    "    I_sol = P_sol / (4 * np.pi * np.linalg.norm(pos)**2)\n",
    "    return I_sol"
   ]
  },
  {
   "cell_type": "code",
   "execution_count": 15,
   "metadata": {},
   "outputs": [
    {
     "data": {
      "application/vnd.jupyter.widget-view+json": {
       "model_id": "7ec61775d6ce45c1b897000b3cf943ef",
       "version_major": 2,
       "version_minor": 0
      },
      "text/plain": [
       "interactive(children=(FloatSlider(value=23.5, description='tilt_angle', max=90.0), FloatSlider(value=0.0, desc…"
      ]
     },
     "metadata": {},
     "output_type": "display_data"
    }
   ],
   "source": [
    "# Visualisering\n",
    "@interact(tilt_angle = FloatSlider(value=23.5, min=0.0, max=90), time = FloatSlider(value = 0.0, min = 0.0, max = 86400.0, step = 1000))\n",
    "def visualize_intensity(tilt_angle, time):\n",
    "    I_sol = calculate_sun_radiated_power(np.array([earth_apoapsis_distance, 0, 0]))\n",
    "    earth_rot_vec = np.array([0, np.cos(np.pi / 2 - np.deg2rad(tilt_angle)), np.sin(np.pi / 2 - np.deg2rad(tilt_angle))])\n",
    "    print(f\"Solens innstrålte effekt per kvadratmeter: {format(I_sol, '.5')}W/m^2\")\n",
    "\n",
    "    tot_sun = 0.0\n",
    "    values = []\n",
    "    alpha = np.linspace(0, np.pi, 30)\n",
    "    beta = np.linspace(0, 2*np.pi, 30)\n",
    "    for b in beta:\n",
    "        col = []\n",
    "        for a in alpha:\n",
    "            # TODO: Fix issue with intensity\n",
    "            intensity = max(calculate_intensity(a, b + earth_rot_vel * time, np.array([earth_apoapsis_distance, 0, 0]), radius_earth, earth_rot_vec), 0)\n",
    "            area = calculate_area_of_sphere(a - np.pi/2, radius_earth, np.pi/(2 * num_of_vertical_points), num_of_horizontal_points)\n",
    "            col.append(area * I_sol * intensity)\n",
    "            tot_sun += area * I_sol * intensity\n",
    "        values.append(col[::-1])\n",
    "    print(f\"Den totale effekten av solens strålingspådriv: {format(tot_sun, '.3')}W\")\n",
    "    plt.xlabel(\"Index into beta-array\")\n",
    "    plt.ylabel(\"Index into alpha-array\")\n",
    "    plt.imshow(np.transpose(np.array(values)))\n",
    "    plt.colorbar()\n",
    "    plt.show()\n"
   ]
  }
 ],
 "metadata": {
  "kernelspec": {
   "display_name": "Python 3",
   "language": "python",
   "name": "python3"
  },
  "language_info": {
   "codemirror_mode": {
    "name": "ipython",
    "version": 3
   },
   "file_extension": ".py",
   "mimetype": "text/x-python",
   "name": "python",
   "nbconvert_exporter": "python",
   "pygments_lexer": "ipython3",
   "version": "3.10.11"
  },
  "orig_nbformat": 4
 },
 "nbformat": 4,
 "nbformat_minor": 2
}
