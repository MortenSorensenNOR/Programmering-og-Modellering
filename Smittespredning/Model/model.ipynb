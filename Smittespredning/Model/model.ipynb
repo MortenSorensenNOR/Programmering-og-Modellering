{
 "cells": [
  {
   "cell_type": "code",
   "execution_count": 1,
   "metadata": {},
   "outputs": [],
   "source": [
    "import numpy as np\n",
    "import matplotlib.pyplot as plt\n",
    "from ipywidgets import interact, FloatSlider\n",
    "plt.rcParams[\"figure.figsize\"] = (15,5)"
   ]
  },
  {
   "attachments": {},
   "cell_type": "markdown",
   "metadata": {},
   "source": [
    "$I'(t) = aI(t) \\rightarrow I = I + ρ * I * dT$"
   ]
  },
  {
   "cell_type": "code",
   "execution_count": 2,
   "metadata": {},
   "outputs": [
    {
     "data": {
      "application/vnd.jupyter.widget-view+json": {
       "model_id": "10816aa6d0bd4ad89524cd82e6e36929",
       "version_major": 2,
       "version_minor": 0
      },
      "text/plain": [
       "interactive(children=(FloatSlider(value=0.2, description='smitte_koeffisient', max=1.0, step=0.001), Output())…"
      ]
     },
     "metadata": {},
     "output_type": "display_data"
    }
   ],
   "source": [
    "# Variabler for simulering\n",
    "P = 157759\n",
    "dt = 0.1\n",
    "simulerings_tid = 48\n",
    "\n",
    "@interact(smitte_koeffisient = FloatSlider(value=0.2, min=0, max=1, step=0.001))\n",
    "def smitte_modell(smitte_koeffisient):\n",
    "    # Arrayer for simuleringsdata\n",
    "    tid = np.arange(0, simulerings_tid, dt)\n",
    "    I = np.zeros(len(tid))\n",
    "\n",
    "    # Initialisering av variabler\n",
    "    I[0] = 1\n",
    "\n",
    "    for t in range(1, len(tid)):\n",
    "        smitte = smitte_koeffisient * I[t - 1] * dt\n",
    "        I[t] = I[t - 1] + smitte\n",
    "\n",
    "    file = open(\"Oppgave 1 - 0.2.csv\", \"w\")\n",
    "    for x in zip(tid, I):\n",
    "        file.write(\"{},{}\\n\".format(x[0], x[1]))\n",
    "    file.close()\n",
    "\n",
    "    plt.plot(tid, I)\n",
    "\n",
    "    plt.title(\"$I'(t) = aI(t)$\")\n",
    "    plt.xlabel(\"Tid - uker\")\n",
    "    plt.ylabel(\"Personer\")\n",
    "    plt.xticks(np.arange(min(tid), max(tid)+1, 1.0))\n",
    "\n",
    "    plt.show()"
   ]
  },
  {
   "attachments": {},
   "cell_type": "markdown",
   "metadata": {},
   "source": [
    "$I'(t) = aI(t)S(t) \\rightarrow I = I + (P - I) / P * ρ * I * dT$"
   ]
  },
  {
   "cell_type": "code",
   "execution_count": 3,
   "metadata": {},
   "outputs": [
    {
     "data": {
      "application/vnd.jupyter.widget-view+json": {
       "model_id": "63c2bc63e59a40b9bf7e87f8fae1dd02",
       "version_major": 2,
       "version_minor": 0
      },
      "text/plain": [
       "interactive(children=(FloatSlider(value=0.48, description='smitte_koeffisient', max=1.0, step=0.001), Output()…"
      ]
     },
     "metadata": {},
     "output_type": "display_data"
    }
   ],
   "source": [
    "@interact(smitte_koeffisient = FloatSlider(value=0.48, min=0, max=1, step=0.001))\n",
    "def smitte_modell(smitte_koeffisient):\n",
    "    # Arrayer for simuleringsdata\n",
    "    tid = np.arange(0, simulerings_tid, dt)\n",
    "    I = np.zeros(len(tid))\n",
    "    S = np.zeros(len(tid))\n",
    "\n",
    "    # Initialisering av variabler\n",
    "    I[0] = 1\n",
    "    S[0] = P - I[0]\n",
    "\n",
    "    for t in range(1, len(tid)):\n",
    "        smitte = smitte_koeffisient * S[t - 1]/P * I[t - 1] * dt\n",
    "        I[t] = I[t - 1] + smitte\n",
    "        S[t] = S[t - 1] - smitte\n",
    "\n",
    "    plt.plot(tid, I)\n",
    "\n",
    "    plt.title(\"$I'(t) = aI(t)S(t)$\")\n",
    "    plt.xlabel(\"Tid - uker\")\n",
    "    plt.ylabel(\"Personer\")\n",
    "    plt.xticks(np.arange(min(tid), max(tid)+1, 1.0))\n",
    "\n",
    "    plt.show()"
   ]
  },
  {
   "attachments": {},
   "cell_type": "markdown",
   "metadata": {},
   "source": [
    "$I'(t) = aI(t)S(t) - bI(t)$"
   ]
  },
  {
   "cell_type": "code",
   "execution_count": 4,
   "metadata": {},
   "outputs": [
    {
     "data": {
      "application/vnd.jupyter.widget-view+json": {
       "model_id": "9392cea6344d444294479bd47ab367cd",
       "version_major": 2,
       "version_minor": 0
      },
      "text/plain": [
       "interactive(children=(FloatSlider(value=3.837, description='smitte_koeffisient', max=4.0, min=3.5, step=0.001)…"
      ]
     },
     "metadata": {},
     "output_type": "display_data"
    }
   ],
   "source": [
    "# Influensa data\n",
    "influensa_data = np.loadtxt(\"./influensa.txt\", dtype=int, delimiter=\",\")\n",
    "\n",
    "@interact(smitte_koeffisient = FloatSlider(value=3.837, min=3.50, max=4, step=0.001), bedrings_koeffisient = FloatSlider(value=3.345, min=3, max=4, step=0.001))\n",
    "def smitte_modell(smitte_koeffisient, bedrings_koeffisient):\n",
    "    # Arrayer for simuleringsdata\n",
    "    tid = np.arange(0, simulerings_tid, dt)\n",
    "    I = np.zeros(len(tid))\n",
    "    S = np.zeros(len(tid))\n",
    "\n",
    "    # Initialisering av variabler\n",
    "    I[0] = 1\n",
    "    S[0] = P - I[0]\n",
    "\n",
    "    for t in range(1, len(tid)):\n",
    "        smitte = smitte_koeffisient * S[t - 1]/P * I[t - 1] * dt\n",
    "        frisk = bedrings_koeffisient * I [t - 1] * dt\n",
    "        I[t] = I[t - 1] + (smitte - frisk)\n",
    "        S[t] = S[t - 1] - smitte\n",
    "\n",
    "    plt.plot(tid, I, label=\"Modell\")\n",
    "    plt.plot(np.split(influensa_data, 2, 1)[0], np.split(influensa_data, 2, 1)[1], label=\"Data\")\n",
    "    \n",
    "    plt.xticks(np.arange(min(tid), max(tid)+1, 1.0))\n",
    "    plt.title(\"$I'(t) = aI(t)S(t) - bI(t)$\")\n",
    "    plt.xlabel(\"Tid - uker\")\n",
    "    plt.ylabel(\"Personer\")\n",
    "    plt.legend()\n",
    "    \n",
    "    plt.show()"
   ]
  },
  {
   "attachments": {},
   "cell_type": "markdown",
   "metadata": {},
   "source": [
    "$\\large{Vaksineringsmodell}$"
   ]
  },
  {
   "cell_type": "code",
   "execution_count": 7,
   "metadata": {},
   "outputs": [
    {
     "data": {
      "application/vnd.jupyter.widget-view+json": {
       "model_id": "3a034a9dffd341958ab2dc2e3351440b",
       "version_major": 2,
       "version_minor": 0
      },
      "text/plain": [
       "interactive(children=(FloatSlider(value=3.837, description='smitte_koeffisient', max=4.0, min=3.5, step=0.001)…"
      ]
     },
     "metadata": {},
     "output_type": "display_data"
    }
   ],
   "source": [
    "@interact(smitte_koeffisient = FloatSlider(value=3.837, min=3.50, max=4, step=0.001), bedrings_koeffisient = FloatSlider(value=3.345, min=3, max=4, step=0.001), vaksinerings_koeffisient = FloatSlider(value=500, min=0, max=1000))\n",
    "def smitte_modell(smitte_koeffisient, bedrings_koeffisient, vaksinerings_koeffisient):\n",
    "    # Arrayer for simuleringsdata\n",
    "    tid = np.arange(0, simulerings_tid, dt)\n",
    "    smittede = np.zeros(len(tid))\n",
    "    immune = np.zeros(len(tid))\n",
    "    vaksinerte = np.zeros(len(tid))\n",
    "\n",
    "    # Initialisering av variabler\n",
    "    smittede[0] = 1\n",
    "    immune[0] = 1\n",
    "\n",
    "    for t in range(1, len(tid)):\n",
    "        smitte = smitte_koeffisient * (P - immune[t - 1] - vaksinerte[t - 1])/P * smittede[t - 1] * dt\n",
    "        frisk = bedrings_koeffisient * smittede[t - 1] * dt\n",
    "        vaksinering = vaksinerings_koeffisient * (P - immune[t - 1] - vaksinerte[t - 1])/P * dt\n",
    "\n",
    "        smittede[t] = smittede[t - 1] + (smitte - frisk)\n",
    "        immune[t] = immune[t - 1] + smitte\n",
    "        vaksinerte[t] = vaksinerte[t - 1] + vaksinering\n",
    "\n",
    "    plt.plot(tid, smittede)\n",
    "    \n",
    "    plt.xticks(np.arange(min(tid), max(tid)+1, 1.0))\n",
    "    plt.title(\"$I'(t) = aI(t)S(t) - bI(t)$\")\n",
    "    plt.xlabel(\"Tid - uker\")\n",
    "    plt.ylabel(\"Personer\")\n",
    "\n",
    "    plt.show()"
   ]
  },
  {
   "attachments": {},
   "cell_type": "markdown",
   "metadata": {},
   "source": [
    "$\\large{Julekoeffisient}$"
   ]
  },
  {
   "cell_type": "code",
   "execution_count": 8,
   "metadata": {},
   "outputs": [
    {
     "data": {
      "application/vnd.jupyter.widget-view+json": {
       "model_id": "6910e78409034810b5fcd4318d2a14cb",
       "version_major": 2,
       "version_minor": 0
      },
      "text/plain": [
       "interactive(children=(FloatSlider(value=3.88, description='smitte_koeffisient', max=4.0, min=3.5, step=0.001),…"
      ]
     },
     "metadata": {},
     "output_type": "display_data"
    }
   ],
   "source": [
    "influensa_data = np.loadtxt(\"./influensa.txt\", dtype=int, delimiter=\",\")\n",
    "\n",
    "def S(t, immune, vaksinerte, tid, _julekoeffisient):\n",
    "    julekoeffisient = 1\n",
    "    if 13 < tid[t] and tid[t] < 14:\n",
    "        julekoeffisient = _julekoeffisient\n",
    "    return julekoeffisient * (P - immune[t - 1] - vaksinerte[t - 1])/P\n",
    "        \n",
    "\n",
    "@interact(smitte_koeffisient = FloatSlider(value=3.88, min=3.50, max=4, step=0.001), bedrings_koeffisient = FloatSlider(value=3.345, min=3, max=4, step=0.001), vaksinerings_koeffisient = FloatSlider(value=0, min=0, max=1000), jule_koeffisient = FloatSlider(value=0.86, min=0, max=1, step = 0.01))\n",
    "def smitte_modell(smitte_koeffisient, bedrings_koeffisient, vaksinerings_koeffisient, jule_koeffisient):\n",
    "    # Arrayer for simuleringsdata\n",
    "    tid = np.arange(0, simulerings_tid, dt)\n",
    "    smittede = np.zeros(len(tid))\n",
    "    immune = np.zeros(len(tid))\n",
    "    vaksinerte = np.zeros(len(tid))\n",
    "\n",
    "    test = np.ones(len(tid))\n",
    "\n",
    "    # Initialisering av variabler\n",
    "    smittede[0] = 1\n",
    "    immune[0] = 1\n",
    "\n",
    "    for t in range(1, len(tid)):\n",
    "        smittbarePersoner = S(t, immune, vaksinerte, tid, jule_koeffisient)\n",
    "        smitte = smitte_koeffisient * smittbarePersoner * smittede[t - 1] * dt\n",
    "        frisk = bedrings_koeffisient * smittede[t - 1] * dt\n",
    "        vaksinering = vaksinerings_koeffisient * smittbarePersoner * dt\n",
    "        test[t] = smittbarePersoner\n",
    "\n",
    "        smittede[t] = smittede[t - 1] + (smitte - frisk)\n",
    "        immune[t] = immune[t - 1] + smitte\n",
    "        vaksinerte[t] = vaksinerte[t - 1] + vaksinering\n",
    "\n",
    "    file = open(\"Oppgave 5.csv\", \"w\")\n",
    "    for x in zip(tid, smittede):\n",
    "        file.write(\"{},{}\\n\".format(x[0], x[1]))\n",
    "    file.close()\n",
    "\n",
    "    fig, ax = plt.subplots(1,1) \n",
    "\n",
    "    plt.plot(tid, smittede)\n",
    "    plt.plot(np.split(influensa_data, 2, 1)[0], np.split(influensa_data, 2, 1)[1], label=\"Data\")\n",
    "    # plt.plot(tid, test)\n",
    "\n",
    "    ax.set_xticks(np.arange(min(tid), max(tid) + 1, 1))\n",
    "    ax.set_xticklabels([str(int(x)) for x in np.arange(min(tid + 37), max(tid + 37) + 1, 1.0) % 52 + 1])\n",
    "    plt.title(\"$I'(t) = aI(t)S(t) - bI(t)$\")\n",
    "    plt.xlabel(\"Tid - uker\")\n",
    "    plt.ylabel(\"Personer\")\n",
    "\n",
    "    plt.show()"
   ]
  }
 ],
 "metadata": {
  "kernelspec": {
   "display_name": ".venv",
   "language": "python",
   "name": "python3"
  },
  "language_info": {
   "codemirror_mode": {
    "name": "ipython",
    "version": 3
   },
   "file_extension": ".py",
   "mimetype": "text/x-python",
   "name": "python",
   "nbconvert_exporter": "python",
   "pygments_lexer": "ipython3",
   "version": "3.10.0"
  },
  "orig_nbformat": 4,
  "vscode": {
   "interpreter": {
    "hash": "2d857e7ad357c8cb40a8feea194b65bd4e854fb56d365d1cff40d0be0259cb31"
   }
  }
 },
 "nbformat": 4,
 "nbformat_minor": 2
}
